{
 "cells": [
  {
   "cell_type": "markdown",
   "id": "3fcda5d1",
   "metadata": {},
   "source": []
  },
  {
   "cell_type": "markdown",
   "id": "f226382d",
   "metadata": {},
   "source": [
    "# Author Details\n",
    "\n",
    "<b>Name : </b> Tejas Kait<br>\n",
    "<b>PRN No.: </b>12723237467"
   ]
  },
  {
   "cell_type": "code",
   "execution_count": 8,
   "id": "7c700c8a",
   "metadata": {},
   "outputs": [
    {
     "name": "stdout",
     "output_type": "stream",
     "text": [
      "addition is 5\n"
     ]
    }
   ],
   "source": [
    "a = int(input(\"Enter first number: \"))\n",
    "b = int(input(\"Enter second number: \"))\n",
    "d = input(\"Enter operator (+, -, *, /): \")\n",
    "\n",
    "if(d==\"+\"):\n",
    "    e=a+b\n",
    "    print(\"addition is\",e)\n",
    "elif(d==\"-\"):\n",
    "    e=a-b\n",
    "    print(\"subtraction is is\",e)\n",
    "elif(d==\"/\"):\n",
    "    e=a/b\n",
    "    print(\"division is\",e)\n",
    "elif(d==\"*\"):\n",
    "    e=a*b\n",
    "    print(\"multiplication is\",e)\n",
    "\n",
    "\n"
   ]
  },
  {
   "cell_type": "markdown",
   "id": "ef26617f",
   "metadata": {},
   "source": [
    "#"
   ]
  }
 ],
 "metadata": {
  "kernelspec": {
   "display_name": "Python 3",
   "language": "python",
   "name": "python3"
  },
  "language_info": {
   "codemirror_mode": {
    "name": "ipython",
    "version": 3
   },
   "file_extension": ".py",
   "mimetype": "text/x-python",
   "name": "python",
   "nbconvert_exporter": "python",
   "pygments_lexer": "ipython3",
   "version": "3.11.4"
  }
 },
 "nbformat": 4,
 "nbformat_minor": 5
}
