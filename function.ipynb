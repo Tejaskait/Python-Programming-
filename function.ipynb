{
 "cells": [
  {
   "cell_type": "code",
   "execution_count": 3,
   "id": "122f7f6c",
   "metadata": {},
   "outputs": [
    {
     "name": "stdout",
     "output_type": "stream",
     "text": [
      "user details are ('tejas', 'rk111', 'kam')\n"
     ]
    }
   ],
   "source": [
    "def login(*userdetails):\n",
    "    print(f\"user details are {userdetails}\")\n",
    "login('tejas','rk111','kam')"
   ]
  },
  {
   "cell_type": "code",
   "execution_count": 4,
   "id": "bd5dc233",
   "metadata": {},
   "outputs": [],
   "source": [
    "new_movies=['sdas','dasd']"
   ]
  },
  {
   "cell_type": "code",
   "execution_count": 5,
   "id": "0fd8bd1c",
   "metadata": {},
   "outputs": [],
   "source": [
    "movie_catalog=[new_movies]\n"
   ]
  },
  {
   "cell_type": "code",
   "execution_count": 6,
   "id": "bb9a9e6e",
   "metadata": {},
   "outputs": [
    {
     "name": "stdout",
     "output_type": "stream",
     "text": [
      "sdas are the new movies\n",
      "dasd are the new movies\n"
     ]
    }
   ],
   "source": [
    "def movie(movie_list):\n",
    "    for movie in movie_list:\n",
    "        for movies in movie:\n",
    "            print(f\"{movies} are the new movies\")\n",
    "movie(movie_catalog)"
   ]
  }
 ],
 "metadata": {
  "kernelspec": {
   "display_name": "Python 3",
   "language": "python",
   "name": "python3"
  },
  "language_info": {
   "codemirror_mode": {
    "name": "ipython",
    "version": 3
   },
   "file_extension": ".py",
   "mimetype": "text/x-python",
   "name": "python",
   "nbconvert_exporter": "python",
   "pygments_lexer": "ipython3",
   "version": "3.11.4"
  }
 },
 "nbformat": 4,
 "nbformat_minor": 5
}
