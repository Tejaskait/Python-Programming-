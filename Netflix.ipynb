{
 "cells": [
  {
   "cell_type": "markdown",
   "id": "c58db94c",
   "metadata": {},
   "source": [
    "# SoulStore"
   ]
  },
  {
   "cell_type": "code",
   "execution_count": 1,
   "id": "4279ec66",
   "metadata": {},
   "outputs": [],
   "source": [
    "user_name= \"varad\"\n",
    "user_password = \"varad\""
   ]
  },
  {
   "cell_type": "code",
   "execution_count": 6,
   "id": "35a48357",
   "metadata": {},
   "outputs": [
    {
     "name": "stdout",
     "output_type": "stream",
     "text": [
      "error\n",
      "error\n",
      "error\n"
     ]
    }
   ],
   "source": [
    "\n",
    "for i in range (1,4):\n",
    "    uname = input(\"enter your user  name\")\n",
    "    upass = input(\"enter uour password\")\n",
    "    if(uname == user_name and upass==user_password):\n",
    "        print(\"user is valid\")\n",
    "        break\n",
    "    else:\n",
    "        print(\"error\")"
   ]
  },
  {
   "cell_type": "code",
   "execution_count": null,
   "id": "9f8949aa",
   "metadata": {},
   "outputs": [
    {
     "name": "stdout",
     "output_type": "stream",
     "text": [
      "WELCOME TO NETFLIX\n",
      "enter the subscription plan\n",
      "your plan is 100rs/month\n"
     ]
    }
   ],
   "source": [
    "print(\"WELCOME TO SoulStore\")\n",
    "print(\"enter the subscription plan\")\n",
    "subscription = int(input())\n",
    "if(subscription == 1):\n",
    "    print(\"your plan is 100rs/month\")\n",
    "elif(subscription== 2):\n",
    "    print(\"your plan is 80rs/month\")\n",
    "else:\n",
    "    print(\"you choose free plan\")\n",
    "\n",
    "    print(\"Thank you for joining soul Store\")"
   ]
  },
  {
   "cell_type": "code",
   "execution_count": 10,
   "id": "38a975c9",
   "metadata": {},
   "outputs": [
    {
     "name": "stdout",
     "output_type": "stream",
     "text": [
      "baggy\n",
      "xl\n",
      "XXl\n"
     ]
    }
   ],
   "source": [
    "shirts= [\"baggy\",\"xl\",\"XXl\"]\n",
    "for shirt in shirts:\n",
    "    print(shirt)"
   ]
  }
 ],
 "metadata": {
  "kernelspec": {
   "display_name": "Python 3",
   "language": "python",
   "name": "python3"
  },
  "language_info": {
   "codemirror_mode": {
    "name": "ipython",
    "version": 3
   },
   "file_extension": ".py",
   "mimetype": "text/x-python",
   "name": "python",
   "nbconvert_exporter": "python",
   "pygments_lexer": "ipython3",
   "version": "3.11.4"
  }
 },
 "nbformat": 4,
 "nbformat_minor": 5
}
