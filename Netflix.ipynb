{
 "cells": [
  {
   "cell_type": "markdown",
   "id": "c58db94c",
   "metadata": {},
   "source": [
    "# SoulStore"
   ]
  },
  {
   "cell_type": "code",
   "execution_count": 4,
   "id": "4279ec66",
   "metadata": {},
   "outputs": [],
   "source": [
    "user_name= \"varad\"\n",
    "user_password = \"varad\""
   ]
  },
  {
   "cell_type": "code",
   "execution_count": 5,
   "id": "35a48357",
   "metadata": {},
   "outputs": [
    {
     "name": "stdout",
     "output_type": "stream",
     "text": [
      "error\n",
      "error\n",
      "error\n"
     ]
    }
   ],
   "source": [
    "\n",
    "for i in range (1,4):\n",
    "    uname = input(\"enter your user  name\")\n",
    "    upass = input(\"enter uour password\")\n",
    "    if(uname == user_name and upass==user_password):\n",
    "        print(\"user is valid\")\n",
    "        break\n",
    "    else:\n",
    "        print(\"error\")"
   ]
  },
  {
   "cell_type": "code",
   "execution_count": 6,
   "id": "9f8949aa",
   "metadata": {},
   "outputs": [
    {
     "name": "stdout",
     "output_type": "stream",
     "text": [
      "WELCOME TO SoulStore\n",
      "enter the subscription plan\n"
     ]
    },
    {
     "ename": "ValueError",
     "evalue": "invalid literal for int() with base 10: ''",
     "output_type": "error",
     "traceback": [
      "\u001b[1;31m---------------------------------------------------------------------------\u001b[0m",
      "\u001b[1;31mValueError\u001b[0m                                Traceback (most recent call last)",
      "Cell \u001b[1;32mIn[6], line 3\u001b[0m\n\u001b[0;32m      1\u001b[0m \u001b[38;5;28mprint\u001b[39m(\u001b[38;5;124m\"\u001b[39m\u001b[38;5;124mWELCOME TO SoulStore\u001b[39m\u001b[38;5;124m\"\u001b[39m)\n\u001b[0;32m      2\u001b[0m \u001b[38;5;28mprint\u001b[39m(\u001b[38;5;124m\"\u001b[39m\u001b[38;5;124menter the subscription plan\u001b[39m\u001b[38;5;124m\"\u001b[39m)\n\u001b[1;32m----> 3\u001b[0m subscription \u001b[38;5;241m=\u001b[39m \u001b[38;5;28;43mint\u001b[39;49m\u001b[43m(\u001b[49m\u001b[38;5;28;43minput\u001b[39;49m\u001b[43m(\u001b[49m\u001b[43m)\u001b[49m\u001b[43m)\u001b[49m\n\u001b[0;32m      4\u001b[0m \u001b[38;5;28;01mif\u001b[39;00m(subscription \u001b[38;5;241m==\u001b[39m \u001b[38;5;241m1\u001b[39m):\n\u001b[0;32m      5\u001b[0m     \u001b[38;5;28mprint\u001b[39m(\u001b[38;5;124m\"\u001b[39m\u001b[38;5;124myour plan is 100rs/month\u001b[39m\u001b[38;5;124m\"\u001b[39m)\n",
      "\u001b[1;31mValueError\u001b[0m: invalid literal for int() with base 10: ''"
     ]
    }
   ],
   "source": [
    "print(\"WELCOME TO SoulStore\")\n",
    "print(\"enter the subscription plan\")\n",
    "subscription = int(input())\n",
    "if(subscription == 1):\n",
    "    print(\"your plan is 100rs/month\")\n",
    "elif(subscription== 2):\n",
    "    print(\"your plan is 80rs/month\")\n",
    "else:\n",
    "    print(\"you choose free plan\")\n",
    "\n",
    "    print(\"Thank you for joining soul Store\")"
   ]
  },
  {
   "cell_type": "code",
   "execution_count": null,
   "id": "38a975c9",
   "metadata": {},
   "outputs": [
    {
     "name": "stdout",
     "output_type": "stream",
     "text": [
      "baggy\n",
      "xl\n",
      "XXl\n"
     ]
    }
   ],
   "source": [
    "shirts= [\"baggy\",\"xl\",\"XXl\"]\n",
    "for shirt in shirts:\n",
    "    print(shirt)"
   ]
  },
  {
   "cell_type": "code",
   "execution_count": null,
   "id": "11e15eb1",
   "metadata": {},
   "outputs": [
    {
     "data": {
      "text/plain": [
       "['baggy', 'xl', 'XXl']"
      ]
     },
     "execution_count": 3,
     "metadata": {},
     "output_type": "execute_result"
    }
   ],
   "source": [
    "shirts"
   ]
  },
  {
   "cell_type": "code",
   "execution_count": null,
   "id": "76616fbc",
   "metadata": {},
   "outputs": [],
   "source": []
  }
 ],
 "metadata": {
  "kernelspec": {
   "display_name": "Python 3",
   "language": "python",
   "name": "python3"
  },
  "language_info": {
   "codemirror_mode": {
    "name": "ipython",
    "version": 3
   },
   "file_extension": ".py",
   "mimetype": "text/x-python",
   "name": "python",
   "nbconvert_exporter": "python",
   "pygments_lexer": "ipython3",
   "version": "3.11.4"
  }
 },
 "nbformat": 4,
 "nbformat_minor": 5
}
